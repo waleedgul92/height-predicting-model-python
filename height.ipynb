{
 "cells": [
  {
   "cell_type": "code",
   "execution_count": 2,
   "id": "26dfed0a",
   "metadata": {},
   "outputs": [],
   "source": [
    "import pandas as pd\n",
    "df = pd.read_csv(\"dataset.csv\")"
   ]
  },
  {
   "cell_type": "code",
   "execution_count": 3,
   "id": "7910641c",
   "metadata": {},
   "outputs": [],
   "source": [
    "import matplotlib.pyplot as plt\n",
    "import numpy as np\n",
    "from sklearn.linear_model import LinearRegression\n",
    "from sklearn.metrics import mean_squared_error, r2_score\n",
    "from sklearn.preprocessing import PolynomialFeatures\n",
    "import operator"
   ]
  },
  {
   "cell_type": "code",
   "execution_count": 4,
   "id": "f1b32026",
   "metadata": {},
   "outputs": [
    {
     "data": {
      "text/html": [
       "<div>\n",
       "<style scoped>\n",
       "    .dataframe tbody tr th:only-of-type {\n",
       "        vertical-align: middle;\n",
       "    }\n",
       "\n",
       "    .dataframe tbody tr th {\n",
       "        vertical-align: top;\n",
       "    }\n",
       "\n",
       "    .dataframe thead th {\n",
       "        text-align: right;\n",
       "    }\n",
       "</style>\n",
       "<table border=\"1\" class=\"dataframe\">\n",
       "  <thead>\n",
       "    <tr style=\"text-align: right;\">\n",
       "      <th></th>\n",
       "      <th>velocity</th>\n",
       "      <th>height</th>\n",
       "    </tr>\n",
       "  </thead>\n",
       "  <tbody>\n",
       "    <tr>\n",
       "      <th>0</th>\n",
       "      <td>40</td>\n",
       "      <td>84.632653</td>\n",
       "    </tr>\n",
       "    <tr>\n",
       "      <th>1</th>\n",
       "      <td>40</td>\n",
       "      <td>85.632653</td>\n",
       "    </tr>\n",
       "    <tr>\n",
       "      <th>2</th>\n",
       "      <td>47</td>\n",
       "      <td>116.704082</td>\n",
       "    </tr>\n",
       "    <tr>\n",
       "      <th>3</th>\n",
       "      <td>3</td>\n",
       "      <td>-0.540816</td>\n",
       "    </tr>\n",
       "    <tr>\n",
       "      <th>4</th>\n",
       "      <td>36</td>\n",
       "      <td>69.122449</td>\n",
       "    </tr>\n",
       "  </tbody>\n",
       "</table>\n",
       "</div>"
      ],
      "text/plain": [
       "   velocity      height\n",
       "0        40   84.632653\n",
       "1        40   85.632653\n",
       "2        47  116.704082\n",
       "3         3   -0.540816\n",
       "4        36   69.122449"
      ]
     },
     "execution_count": 4,
     "metadata": {},
     "output_type": "execute_result"
    }
   ],
   "source": [
    "df.head()\n"
   ]
  },
  {
   "cell_type": "code",
   "execution_count": null,
   "id": "3f7d6b54",
   "metadata": {},
   "outputs": [],
   "source": []
  },
  {
   "cell_type": "code",
   "execution_count": 5,
   "id": "ecd3c2d3",
   "metadata": {},
   "outputs": [
    {
     "name": "stdout",
     "output_type": "stream",
     "text": [
      "0      84.632653\n",
      "1      85.632653\n",
      "2     116.704082\n",
      "3      -0.540816\n",
      "4      69.122449\n",
      "         ...    \n",
      "94      4.836735\n",
      "95     15.418367\n",
      "96     -4.000000\n",
      "97     45.908163\n",
      "98      9.479592\n",
      "Name: height, Length: 99, dtype: float64\n",
      "(99,)\n"
     ]
    }
   ],
   "source": [
    "y=df.iloc[:,1]\n",
    "print(y)\n",
    "print(y.shape)"
   ]
  },
  {
   "cell_type": "code",
   "execution_count": null,
   "id": "38934749",
   "metadata": {},
   "outputs": [],
   "source": []
  },
  {
   "cell_type": "code",
   "execution_count": null,
   "id": "f2fa5c9f",
   "metadata": {},
   "outputs": [],
   "source": []
  },
  {
   "cell_type": "code",
   "execution_count": 6,
   "id": "df6d59bd",
   "metadata": {},
   "outputs": [
    {
     "name": "stdout",
     "output_type": "stream",
     "text": [
      "0     40\n",
      "1     40\n",
      "2     47\n",
      "3      3\n",
      "4     36\n",
      "      ..\n",
      "94     6\n",
      "95    19\n",
      "96     0\n",
      "97    29\n",
      "98    15\n",
      "Name: velocity, Length: 99, dtype: int64\n",
      "(99,)\n",
      "[[40]\n",
      " [40]\n",
      " [47]\n",
      " [ 3]\n",
      " [36]\n",
      " [26]\n",
      " [11]\n",
      " [38]\n",
      " [33]\n",
      " [ 5]\n",
      " [19]\n",
      " [43]\n",
      " [45]\n",
      " [24]\n",
      " [40]\n",
      " [21]\n",
      " [13]\n",
      " [31]\n",
      " [15]\n",
      " [32]\n",
      " [28]\n",
      " [16]\n",
      " [17]\n",
      " [15]\n",
      " [47]\n",
      " [ 3]\n",
      " [ 2]\n",
      " [ 3]\n",
      " [25]\n",
      " [20]\n",
      " [ 9]\n",
      " [ 8]\n",
      " [27]\n",
      " [31]\n",
      " [44]\n",
      " [49]\n",
      " [22]\n",
      " [10]\n",
      " [49]\n",
      " [15]\n",
      " [ 8]\n",
      " [ 8]\n",
      " [ 8]\n",
      " [22]\n",
      " [28]\n",
      " [ 8]\n",
      " [23]\n",
      " [46]\n",
      " [28]\n",
      " [14]\n",
      " [50]\n",
      " [48]\n",
      " [19]\n",
      " [18]\n",
      " [37]\n",
      " [12]\n",
      " [ 9]\n",
      " [25]\n",
      " [38]\n",
      " [23]\n",
      " [ 2]\n",
      " [16]\n",
      " [30]\n",
      " [27]\n",
      " [47]\n",
      " [28]\n",
      " [49]\n",
      " [28]\n",
      " [48]\n",
      " [ 4]\n",
      " [48]\n",
      " [40]\n",
      " [31]\n",
      " [35]\n",
      " [44]\n",
      " [27]\n",
      " [41]\n",
      " [38]\n",
      " [ 8]\n",
      " [18]\n",
      " [19]\n",
      " [48]\n",
      " [26]\n",
      " [ 5]\n",
      " [25]\n",
      " [44]\n",
      " [22]\n",
      " [31]\n",
      " [ 7]\n",
      " [38]\n",
      " [12]\n",
      " [44]\n",
      " [37]\n",
      " [ 5]\n",
      " [ 6]\n",
      " [19]\n",
      " [ 0]\n",
      " [29]\n",
      " [15]]\n"
     ]
    }
   ],
   "source": [
    "X=df.iloc[:,0]\n",
    "print(X)\n",
    "print(X.shape)\n",
    "X=np.array(X)\n",
    "X=X.reshape(-1,1)\n",
    "print(X)"
   ]
  },
  {
   "cell_type": "code",
   "execution_count": 7,
   "id": "98191b58",
   "metadata": {},
   "outputs": [
    {
     "data": {
      "image/png": "[encoded data removed]",
      "text/plain": [
       "<Figure size 432x288 with 1 Axes>"
      ]
     },
     "metadata": {
      "needs_background": "light"
     },
     "output_type": "display_data"
    }
   ],
   "source": [
    "plt.scatter(X,y,marker=\"o\",alpha=0.4,s=8)\n",
    "plt.xlabel(\"velocity (ms-1\")\n",
    "plt.ylabel(\"height(m)\")\n",
    "plt.title(\"velocity vs height\")\n",
    "plt.show()"
   ]
  },
  {
   "cell_type": "code",
   "execution_count": 8,
   "id": "d3dc22aa",
   "metadata": {},
   "outputs": [],
   "source": [
    "poly=PolynomialFeatures(degree=2)\n",
    "xpoly=poly.fit_transform(X)"
   ]
  },
  {
   "cell_type": "code",
   "execution_count": 9,
   "id": "70e0607b",
   "metadata": {},
   "outputs": [
    {
     "name": "stdout",
     "output_type": "stream",
     "text": [
      "[ 8.24142801e+01  8.24142801e+01  1.14066556e+02  3.12025179e-01\n",
      "  6.66300391e+01  3.44964444e+01  5.92196568e+00  7.43128165e+01\n",
      "  5.58909095e+01  1.08648108e+00  1.82308846e+01  9.53515119e+01\n",
      "  1.04499691e+02  2.93257839e+01  8.24142801e+01  2.23548297e+01\n",
      "  8.37116618e+00  4.92548475e+01  1.12390528e+01  5.25205428e+01\n",
      "  4.00857910e+01  1.28300035e+01  1.45256256e+01  1.12390528e+01\n",
      "  1.14066556e+02  3.12025179e-01  8.18045374e-02  3.12025179e-01\n",
      "  3.18587784e+01  2.02405214e+01  3.89145132e+00  3.03320145e+00\n",
      "  3.72387819e+01  4.92548475e+01  9.98732656e+01  1.24052107e+02\n",
      "  2.45738096e+01  4.85437273e+00  1.24052107e+02  1.12390528e+01\n",
      "  3.03320145e+00  3.03320145e+00  3.03320145e+00  2.45738096e+01\n",
      "  4.00857910e+01  3.03320145e+00  2.68974610e+01  1.09230788e+02\n",
      "  4.00857910e+01  9.75277374e+00  1.29201890e+02  1.19006996e+02\n",
      "  1.82308846e+01  1.63259193e+01  7.04190920e+01  7.09423016e+00\n",
      "  3.89145132e+00  3.18587784e+01  7.43128165e+01  2.68974610e+01\n",
      "  8.18045374e-02  1.28300035e+01  4.60938238e+01  3.72387819e+01\n",
      "  1.14066556e+02  4.00857910e+01  1.24052107e+02  4.00857910e+01\n",
      "  1.19006996e+02  6.46917358e-01  1.19006996e+02  8.24142801e+01\n",
      "  4.92548475e+01  6.29456577e+01  9.98732656e+01  3.72387819e+01\n",
      "  8.66220191e+01  7.43128165e+01  3.03320145e+00  1.63259193e+01\n",
      "  1.82308846e+01  1.19006996e+02  3.44964444e+01  1.08648108e+00\n",
      "  3.18587784e+01  9.98732656e+01  2.45738096e+01  4.92548475e+01\n",
      "  2.27962312e+00  7.43128165e+01  7.09423016e+00  9.98732656e+01\n",
      "  7.04190920e+01  1.08648108e+00  1.63071633e+00  1.82308846e+01\n",
      " -6.46221319e-02  4.30374717e+01  1.12390528e+01]\n"
     ]
    }
   ],
   "source": [
    "model = LinearRegression()\n",
    "model.fit(xpoly, y)\n",
    "ypoly_pred = model.predict(xpoly)\n",
    "print(ypoly_pred)"
   ]
  },
  {
   "cell_type": "code",
   "execution_count": 10,
   "id": "677bb854",
   "metadata": {},
   "outputs": [
    {
     "name": "stdout",
     "output_type": "stream",
     "text": [
      "0.9960414617792925\n",
      "2.5323420788033904\n",
      "0.9960414617792925\n"
     ]
    }
   ],
   "source": [
    "r2 = r2_score(y,ypoly_pred)\n",
    "print(r2)\n",
    "rmse = np.sqrt(mean_squared_error(y,ypoly_pred))\n",
    "r2 = r2_score(y,ypoly_pred)\n",
    "print(rmse)\n",
    "print(r2)"
   ]
  },
  {
   "cell_type": "code",
   "execution_count": 11,
   "id": "9f2b3ae1",
   "metadata": {},
   "outputs": [
    {
     "data": {
      "image/png": "[encoded data removed]",
      "text/plain": [
       "<Figure size 432x288 with 1 Axes>"
      ]
     },
     "metadata": {
      "needs_background": "light"
     },
     "output_type": "display_data"
    }
   ],
   "source": [
    "plt.scatter(X, y, s=10)\n",
    "sort_axis = operator.itemgetter(0)\n",
    "sorted_zip = sorted(zip(X,ypoly_pred), key=sort_axis)\n",
    "X, ypoly_pred = zip(*sorted_zip)\n",
    "plt.plot(X, ypoly_pred, color='m')\n",
    "plt.show()"
   ]
  },
  {
   "cell_type": "code",
   "execution_count": 19,
   "id": "51660f8c",
   "metadata": {},
   "outputs": [
    {
     "data": {
      "text/plain": [
       "array([ 26.89746097,   1.63071633, 232.76294506, 366.5740745 ,\n",
       "        12.83000347])"
      ]
     },
     "execution_count": 19,
     "metadata": {},
     "output_type": "execute_result"
    }
   ],
   "source": [
    "a=[[23],[6],[67],[84],[16]]\n",
    "ab=model.predict(poly.fit_transform(a))\n",
    "ab"
   ]
  },
  {
   "cell_type": "code",
   "execution_count": 27,
   "id": "c8329bd6",
   "metadata": {},
   "outputs": [
    {
     "data": {
      "text/plain": [
       "array([ 27.84210526,   1.89473684, 236.26315789, 371.36842105,\n",
       "        13.47368421])"
      ]
     },
     "execution_count": 27,
     "metadata": {},
     "output_type": "execute_result"
    }
   ],
   "source": [
    "a=np.array(a)\n",
    "cd=a**2/19.\n",
    "cd=cd.flatten()\n",
    "cd"
   ]
  },
  {
   "cell_type": "code",
   "execution_count": 29,
   "id": "4604c917",
   "metadata": {},
   "outputs": [
    {
     "data": {
      "text/plain": [
       "array([96.60713769, 86.06558413, 98.51851094, 98.70900532, 95.22268198])"
      ]
     },
     "execution_count": 29,
     "metadata": {},
     "output_type": "execute_result"
    }
   ],
   "source": [
    "(ab/cd)*100"
   ]
  }
 ],
 "metadata": {
  "kernelspec": {
   "display_name": "Python 3",
   "language": "python",
   "name": "python3"
  },
  "language_info": {
   "codemirror_mode": {
    "name": "ipython",
    "version": 3
   },
   "file_extension": ".py",
   "mimetype": "text/x-python",
   "name": "python",
   "nbconvert_exporter": "python",
   "pygments_lexer": "ipython3",
   "version": "3.8.8"
  }
 },
 "nbformat": 4,
 "nbformat_minor": 5
}
